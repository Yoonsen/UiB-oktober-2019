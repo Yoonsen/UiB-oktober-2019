{
 "cells": [
  {
   "cell_type": "code",
   "execution_count": null,
   "metadata": {},
   "outputs": [],
   "source": [
    "import dhlab.nbtext as nb\n",
    "import dhlab.module_update as mu\n",
    "mu.css()"
   ]
  },
  {
   "cell_type": "markdown",
   "metadata": {},
   "source": [
    "## Litt hjelpekode\n",
    "\n",
    "Koden definerer kommandoene `difference`, som sammenligner endringer i kontekst, og `phrase` som forkorter skrivingen litt. Se også Helene Uris artikkel [\"Dette er en reklametekst for Norges stiligste nettside\"\n",
    "Aftenposten 19.10.2019](https://www.aftenposten.no/kultur/i/awkxj2/Helene-Uri-Dette-er-en-reklametekst-for-Norges-stiligste-nettside)"
   ]
  },
  {
   "cell_type": "code",
   "execution_count": null,
   "metadata": {},
   "outputs": [],
   "source": [
    "from dhlab.nbtext import nb_ngram, unigram, bigram\n",
    "\n",
    "def difference(first, second, rf, rs, years=(1980, 2000),smooth=1, corpus='bok', mode='a'):\n",
    "    \"\"\"Compute difference of difference (first/second)/(rf/rs)\"\"\"\n",
    "    try:\n",
    "        a_first = nb_ngram(first, years=years, smooth=smooth, corpus=corpus, mode=mode)\n",
    "        a_second = nb_ngram(second, years=years, smooth=smooth, corpus=corpus,mode=mode)\n",
    "        a = a_first.join(a_second)  \n",
    "        b_first = nb_ngram(rf, years=years, smooth=smooth, corpus=corpus,mode=mode)\n",
    "        b_second = nb_ngram(rs, years=years, smooth=smooth, corpus=corpus,mode=mode)\n",
    "        if rf == rs:\n",
    "            b_second.columns = [rs + '2']\n",
    "        b = b_first.join(b_second)\n",
    "        s_a = a.sum()\n",
    "        s_b = b.sum()\n",
    "        f1 = s_a[a.columns[0]]/s_a[a.columns[1]]\n",
    "        f2 = s_b[b.columns[0]]/s_b[b.columns[1]]\n",
    "        res = f1/f2\n",
    "    except:\n",
    "        res = 'Mangler noen data - har bare for: ' + ', '.join([x for x in a.columns.append(b.columns)])\n",
    "    return res\n",
    "\n",
    "\n",
    "def phrase(masc, fem, construction, period=(1950, 2010), media='avis', mode='a'):\n",
    "    res = difference(masc, fem, construction(masc), construction(fem), years=period, corpus=media, mode='a')\n",
    "    print(res)\n",
    "    nb.nb_ngram(\"{cm}, {cf}\".format(cm=construction(masc), cf=construction(fem) ),smooth=1, corpus=media, years= period).plot(figsize=(10,5), lw=3)\n",
    "    return res\n",
    "\n",
    "def phrase_dev(masc, fem, construction, period=(1950, 2010), step = 2, media='avis'):\n",
    "    res = {\n",
    "        x:difference(masc, fem, construction(masc), construction(fem), years=(x, x+step), corpus=media, mode='a') \n",
    "        for x in range(period[0], period[1], step)\n",
    "    }           \n",
    "    return res"
   ]
  },
  {
   "cell_type": "markdown",
   "metadata": {},
   "source": [
    "# Sjekk opp grunnfrekvenser og forskjeller"
   ]
  },
  {
   "cell_type": "code",
   "execution_count": null,
   "metadata": {},
   "outputs": [],
   "source": [
    "# nominativ - subjektsform\n",
    "\n",
    "nb_ngram('han, hun', years=(1950,2000) ).plot(figsize=(10,5), lw=3)"
   ]
  },
  {
   "cell_type": "code",
   "execution_count": null,
   "metadata": {},
   "outputs": [],
   "source": [
    "nb_ngram('ham, henne', years=(1950,2000) ).plot(figsize=(10,5), lw=3)"
   ]
  },
  {
   "cell_type": "code",
   "execution_count": null,
   "metadata": {},
   "outputs": [],
   "source": [
    "nb_ngram('hans, hennes', years=(1950,2000) ).plot(figsize=(10,5), lw=3)"
   ]
  },
  {
   "cell_type": "markdown",
   "metadata": {},
   "source": [
    "## Kontekst\n",
    "\n",
    "Vil forskjellene bestå i forskjellige kontekster? Hvem tenker, mener og blir behandlet? Endre parametret `media`og se om det gjøre noen forskjell."
   ]
  },
  {
   "cell_type": "code",
   "execution_count": null,
   "metadata": {},
   "outputs": [],
   "source": [
    "phrase('han', 'hun', lambda x: x + ' gråter', media = 'bok')"
   ]
  },
  {
   "cell_type": "code",
   "execution_count": null,
   "metadata": {},
   "outputs": [],
   "source": [
    "phrase('han', 'hun', lambda x: x + ' mener', media = 'bok')"
   ]
  },
  {
   "cell_type": "code",
   "execution_count": null,
   "metadata": {},
   "outputs": [],
   "source": [
    "phrase('han', 'hun', lambda x: x + ' hevder', media = 'bok')"
   ]
  },
  {
   "cell_type": "code",
   "execution_count": null,
   "metadata": {},
   "outputs": [],
   "source": [
    "phrase('han', 'hun', lambda x: x + ' føler', media = 'bok')"
   ]
  },
  {
   "cell_type": "markdown",
   "metadata": {},
   "source": [
    "# Genitiver\n",
    "\n",
    "I norsk kan genitiven være foranstilt eller komme etter, avhengig litt av hva det snakkes/skrives om."
   ]
  },
  {
   "cell_type": "code",
   "execution_count": null,
   "metadata": {},
   "outputs": [],
   "source": [
    "phrase('hans', 'hennes', lambda x: 'vesken ' + x, media = 'bok')"
   ]
  },
  {
   "cell_type": "code",
   "execution_count": null,
   "metadata": {},
   "outputs": [],
   "source": [
    "phrase('hans', 'hennes', lambda x: 'øyenbrynene ' + x, media = 'bok')"
   ]
  },
  {
   "cell_type": "markdown",
   "metadata": {},
   "source": [
    "## Slekt\n",
    "\n",
    "\n",
    "Er det forskjell på å gå oppover i slektstreet sammenlignet med nedover?"
   ]
  },
  {
   "cell_type": "code",
   "execution_count": null,
   "metadata": {},
   "outputs": [],
   "source": [
    "phrase('hans', 'hennes', lambda x:  x + ' datter', media = 'bok')"
   ]
  },
  {
   "cell_type": "code",
   "execution_count": null,
   "metadata": {},
   "outputs": [],
   "source": [
    "phrase('hans', 'hennes', lambda x:  x + ' far', media = 'bok')"
   ]
  }
 ],
 "metadata": {
  "kernelspec": {
   "display_name": "Python 3",
   "language": "python",
   "name": "python3"
  },
  "language_info": {
   "codemirror_mode": {
    "name": "ipython",
    "version": 3
   },
   "file_extension": ".py",
   "mimetype": "text/x-python",
   "name": "python",
   "nbconvert_exporter": "python",
   "pygments_lexer": "ipython3",
   "version": "3.7.3"
  }
 },
 "nbformat": 4,
 "nbformat_minor": 2
}
