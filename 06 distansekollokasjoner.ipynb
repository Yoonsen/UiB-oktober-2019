{
 "cells": [
  {
   "cell_type": "markdown",
   "metadata": {},
   "source": [
    "# Kollokasjoner med bruk av distanse\n",
    "\n"
   ]
  },
  {
   "cell_type": "code",
   "execution_count": null,
   "metadata": {},
   "outputs": [],
   "source": [
    "import dhlab.nbtext as nb\n",
    "import dhlab.module_update as mu\n",
    "#mu.update('collocations', overwrite=True)\n",
    "from collocations import dist_coll_urn, urn_coll\n",
    "import pandas as pd\n",
    "mu.css()"
   ]
  },
  {
   "cell_type": "markdown",
   "metadata": {},
   "source": [
    "Et korpus med bøker inneholdende ordet *kaffe*, og et med verbet *spiser*"
   ]
  },
  {
   "cell_type": "code",
   "execution_count": null,
   "metadata": {},
   "outputs": [],
   "source": [
    "corpus = nb.book_corpus(words=['kaffe'], limit=100)\n",
    "corpus.head()"
   ]
  },
  {
   "cell_type": "markdown",
   "metadata": {},
   "source": [
    "# "
   ]
  },
  {
   "cell_type": "code",
   "execution_count": null,
   "metadata": {},
   "outputs": [],
   "source": [
    "corpus0 = nb.book_corpus(words=['spiser'], limit=100)\n",
    "corpus0.head()"
   ]
  },
  {
   "cell_type": "markdown",
   "metadata": {},
   "source": [
    "Bygger kollokasjonen med kommandoen `dist_coll_urn`"
   ]
  },
  {
   "cell_type": "code",
   "execution_count": null,
   "metadata": {},
   "outputs": [],
   "source": [
    "kaffe = dist_coll_urn('kaffe', nb.pure_urn(corpus), before=10, after=0)"
   ]
  },
  {
   "cell_type": "markdown",
   "metadata": {},
   "source": [
    "Resultatet er en dataramme med tre kolonner, frekvens - `freq`, gjennomsnittlig distanse - `dist`, og korrigert distanse - `score`"
   ]
  },
  {
   "cell_type": "code",
   "execution_count": null,
   "metadata": {},
   "outputs": [],
   "source": [
    "kaffe.sort_values(by='freq', ascending=False)[:20]"
   ]
  },
  {
   "cell_type": "markdown",
   "metadata": {},
   "source": [
    "Her sortert på score, fra nærmest og utover. Negative tall indikerer venstre kontekst."
   ]
  },
  {
   "cell_type": "code",
   "execution_count": null,
   "metadata": {},
   "outputs": [],
   "source": [
    "kaffe.sort_values(by='score', ascending=False)[:20]"
   ]
  },
  {
   "cell_type": "markdown",
   "metadata": {},
   "source": [
    "Kan ta en kjapp sjekk med pmi-beregnet kollokasjon"
   ]
  },
  {
   "cell_type": "code",
   "execution_count": null,
   "metadata": {},
   "outputs": [],
   "source": [
    "tot = nb.frame(nb.totals(50000), 'tot')"
   ]
  },
  {
   "cell_type": "code",
   "execution_count": null,
   "metadata": {},
   "outputs": [],
   "source": [
    "# eksponenten vekter frekvensen mer - eksperimenter litt\n",
    "\n",
    "kaffe['pmi'] = kaffe['freq']**1.8/tot['tot']"
   ]
  },
  {
   "cell_type": "code",
   "execution_count": null,
   "metadata": {},
   "outputs": [],
   "source": [
    "kaffe.sort_values(by='pmi', ascending=False).head(20)"
   ]
  },
  {
   "cell_type": "code",
   "execution_count": null,
   "metadata": {},
   "outputs": [],
   "source": [
    "spise = dist_coll_urn('spiser', nb.pure_urn(corpus0), before=0, after=20)"
   ]
  },
  {
   "cell_type": "code",
   "execution_count": null,
   "metadata": {},
   "outputs": [],
   "source": [
    "spise.sort_values(by='freq', ascending=False)[:10]"
   ]
  },
  {
   "cell_type": "code",
   "execution_count": null,
   "metadata": {},
   "outputs": [],
   "source": [
    "spise.sort_values(by='score', ascending=True).head(20)"
   ]
  },
  {
   "cell_type": "code",
   "execution_count": null,
   "metadata": {},
   "outputs": [],
   "source": [
    "spise['pmi'] = spise['freq']**1/tot['tot']"
   ]
  },
  {
   "cell_type": "code",
   "execution_count": null,
   "metadata": {},
   "outputs": [],
   "source": [
    "spise.sort_values(by='pmi', ascending=False).head(20)"
   ]
  },
  {
   "cell_type": "markdown",
   "metadata": {},
   "source": [
    "# Bruk ordbanken til å gruppere ordene i kollokasjonene"
   ]
  },
  {
   "cell_type": "markdown",
   "metadata": {},
   "source": [
    "Det er api-funksjoner for ordbanken (bokmål for øyeblikket)"
   ]
  },
  {
   "cell_type": "code",
   "execution_count": null,
   "metadata": {},
   "outputs": [],
   "source": [
    "nb.word_form('spiser')"
   ]
  },
  {
   "cell_type": "markdown",
   "metadata": {},
   "source": [
    "Vi lager en heuristikk for å velge form, med en hjelpekommando `klassifiser`, der resultatene rangeres som *det*, *verb*, *subst*, *adj*, ellers ta første forslag i listen - det her gjelder bare for POS."
   ]
  },
  {
   "cell_type": "code",
   "execution_count": null,
   "metadata": {},
   "outputs": [],
   "source": [
    "def velg_form(word):\n",
    "    former = list({x.split()[0] for x in nb.word_form(word)})\n",
    "    if 'det' in former:\n",
    "        res = 'det'\n",
    "    elif 'pron' in former:\n",
    "        res = 'pron'\n",
    "    elif 'verb' in former:\n",
    "        res = 'verb'\n",
    "    elif 'subst' in former:\n",
    "        res = 'subst'\n",
    "    elif 'adj' in former:\n",
    "        res = 'adj'\n",
    "    else:\n",
    "        try:\n",
    "            res = former[0]\n",
    "        except:\n",
    "            res = 'ukjent'\n",
    "    return res\n",
    "\n",
    "def klassifikasjon(df, num = 60, by='score', up=True):\n",
    "    gruppering = list(map(lambda w: (w, velg_form(w)), df.sort_values(by=by, ascending=up).head(num).index))\n",
    "    grupper = dict(gruppering)\n",
    "    grupperinger = {cat:[w for w in grupper if grupper[w] == cat] for cat in grupper.values()}\n",
    "    return nb.frame(grupperinger).transpose().fillna('')"
   ]
  },
  {
   "cell_type": "code",
   "execution_count": null,
   "metadata": {},
   "outputs": [],
   "source": [
    "klassifikasjon(spise, num=80)"
   ]
  },
  {
   "cell_type": "code",
   "execution_count": null,
   "metadata": {},
   "outputs": [],
   "source": [
    "klassifikasjon(kaffe, num=60, up=False)"
   ]
  },
  {
   "cell_type": "code",
   "execution_count": null,
   "metadata": {},
   "outputs": [],
   "source": [
    "morgan_kane = nb.book_corpus(title=\"%morgan%kane%\")\n",
    "morgan_kane\n"
   ]
  },
  {
   "cell_type": "code",
   "execution_count": null,
   "metadata": {},
   "outputs": [],
   "source": [
    "kane_coll = dist_coll_urn('Kane', nb.pure_urn(morgan_kane),before=0, after=20)"
   ]
  },
  {
   "cell_type": "code",
   "execution_count": null,
   "metadata": {},
   "outputs": [],
   "source": [
    "kane_coll.sort_values(by='score', ascending=True)[:50]"
   ]
  },
  {
   "cell_type": "code",
   "execution_count": null,
   "metadata": {},
   "outputs": [],
   "source": [
    "klassifikasjon(kane_coll)"
   ]
  },
  {
   "cell_type": "code",
   "execution_count": null,
   "metadata": {},
   "outputs": [],
   "source": [
    "kane_coll['pmi'] = kane_coll.freq**1.5/tot.tot"
   ]
  },
  {
   "cell_type": "code",
   "execution_count": null,
   "metadata": {},
   "outputs": [],
   "source": [
    "kane_coll.sort_values(by='pmi', ascending=False)"
   ]
  },
  {
   "cell_type": "code",
   "execution_count": null,
   "metadata": {},
   "outputs": [],
   "source": [
    "klassifikasjon(kane_coll, by='pmi', up=False, num=100)"
   ]
  }
 ],
 "metadata": {
  "kernelspec": {
   "display_name": "Python 3",
   "language": "python",
   "name": "python3"
  },
  "language_info": {
   "codemirror_mode": {
    "name": "ipython",
    "version": 3
   },
   "file_extension": ".py",
   "mimetype": "text/x-python",
   "name": "python",
   "nbconvert_exporter": "python",
   "pygments_lexer": "ipython3",
   "version": "3.7.3"
  }
 },
 "nbformat": 4,
 "nbformat_minor": 2
}
